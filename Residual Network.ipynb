{
  "cells": [
    {
      "cell_type": "code",
      "execution_count": 1,
      "metadata": {
        "id": "fkPeHt3hDqwv"
      },
      "outputs": [],
      "source": [
        "import tensorflow as tf\n",
        "import numpy as np\n",
        "import matplotlib.pyplot as plt\n",
        "import keras\n",
        "\n",
        "from keras import optimizers\n",
        "from keras.layers import Conv2D, MaxPooling2D, Dropout, Dense, Flatten, ReLU, BatchNormalization, Add, GlobalAveragePooling2D, AveragePooling2D\n",
        "from keras.models import Sequential\n",
        "from keras.callbacks import ModelCheckpoint\n",
        "from keras.regularizers import l2\n",
        "\n",
        "from sklearn.model_selection import train_test_split"
      ]
    },
    {
      "cell_type": "code",
      "execution_count": 2,
      "metadata": {
        "colab": {
          "base_uri": "https://localhost:8080/"
        },
        "id": "PQahzUx4IOa4",
        "outputId": "661e81df-1c7a-4db1-cf11-2bb027be5dd9"
      },
      "outputs": [
        {
          "name": "stdout",
          "output_type": "stream",
          "text": [
            "Running on TPU  ['10.9.249.194:8470']\n"
          ]
        }
      ],
      "source": [
        "tpu = tf.distribute.cluster_resolver.TPUClusterResolver()\n",
        "print('Running on TPU ', tpu.cluster_spec().as_dict()['worker'])\n",
        "\n",
        "tf.config.experimental_connect_to_cluster(tpu)\n",
        "tf.tpu.experimental.initialize_tpu_system(tpu)\n",
        "tpu_strategy = tf.distribute.TPUStrategy(tpu)"
      ]
    },
    {
      "cell_type": "code",
      "execution_count": null,
      "metadata": {
        "id": "7gKnOaGYHBFG"
      },
      "outputs": [],
      "source": [
        "# loading and splitting dataset into training and testing data\n",
        "(x_train, y_train), (x_test, y_test) = keras.datasets.cifar10.load_data()\n",
        "\n",
        "val_size = 0.1\n",
        "\n",
        "x_train, x_val, y_train, y_val = train_test_split(\n",
        "    x_train, y_train, test_size=val_size, random_state=42\n",
        ")\n",
        "\n",
        "# one hot encoding the integer labels\n",
        "y_train = keras.utils.to_categorical(y_train)\n",
        "y_val = keras.utils.to_categorical(y_val)\n",
        "y_test = keras.utils.to_categorical(y_test)\n",
        "\n",
        "# converting numpy arrays of uint8 dtype to tensors\n",
        "x_train = tf.convert_to_tensor(x_train, dtype=tf.float32)\n",
        "y_train = tf.convert_to_tensor(y_train, dtype=tf.int32)\n",
        "x_val = tf.convert_to_tensor(x_val, dtype=tf.float32)\n",
        "y_val = tf.convert_to_tensor(y_val, dtype=tf.int32)\n",
        "\n",
        "train_dataset = tf.data.Dataset.from_tensor_slices((x_train, y_train))\n",
        "val_dataset = tf.data.Dataset.from_tensor_slices((x_val, y_val))"
      ]
    },
    {
      "cell_type": "code",
      "execution_count": null,
      "metadata": {
        "id": "5gh6ddxFLtJK"
      },
      "outputs": [],
      "source": [
        "# performing image augmentations\n",
        "def augment_data(image, label):\n",
        "    image = tf.image.random_flip_left_right(image)\n",
        "\n",
        "    image = tf.image.random_contrast(image, lower=0.5, upper=1.5)\n",
        "    image = tf.image.random_brightness(image, max_delta=0.2)\n",
        "\n",
        "    image = tf.image.random_crop(image, size=[27, 27, 3])\n",
        "    image = tf.image.resize(image, size=[32, 32], method=tf.image.ResizeMethod.LANCZOS3)\n",
        "\n",
        "    return image, label\n",
        "\n",
        "augmented_dataset = train_dataset.map(augment_data)\n",
        "train_dataset = train_dataset.concatenate(augmented_dataset)"
      ]
    },
    {
      "cell_type": "code",
      "execution_count": null,
      "metadata": {
        "id": "cYmolCWdPK2E"
      },
      "outputs": [],
      "source": [
        "# normalizing the images in our datasets\n",
        "def normalize_images(image, label):\n",
        "    image = image/255.0\n",
        "\n",
        "    return image, label\n",
        "\n",
        "train_dataset = train_dataset.map(normalize_images)\n",
        "val_dataset = val_dataset.map(normalize_images)\n",
        "x_test = x_test/255.0\n",
        "\n",
        "# shuffling and batching our datasets\n",
        "batch_size=128\n",
        "\n",
        "train_dataset = train_dataset.shuffle(buffer_size=90000).batch(batch_size)\n",
        "val_dataset = val_dataset.batch(batch_size)"
      ]
    },
    {
      "cell_type": "code",
      "execution_count": null,
      "metadata": {
        "id": "zRVP8M-lTf5Y"
      },
      "outputs": [],
      "source": [
        "# function to build residual blocks. 'pooling' is a boolean value.\n",
        "def residual_block(x, filters, pooling, reg_strength=0):\n",
        "    shortcut = x\n",
        "\n",
        "    if pooling:\n",
        "        # first conv layer\n",
        "        x = Conv2D(filters, kernel_size=(3, 3), strides=(2, 2), padding='same', kernel_initializer='he_normal', kernel_regularizer=l2(reg_strength))(x)\n",
        "        x = BatchNormalization()(x)\n",
        "        x = ReLU()(x)\n",
        "\n",
        "        # second conv layer\n",
        "        x = Conv2D(filters, kernel_size=(3, 3), padding='same', kernel_initializer='he_normal', kernel_regularizer=l2(reg_strength))(x)\n",
        "        x = BatchNormalization()(x) # output of the second conv layer\n",
        "\n",
        "        shortcut = AveragePooling2D((2, 2))(shortcut) # to reduce the height and width of the shortcut\n",
        "\n",
        "        depth_diff = x.shape[3] - shortcut.shape[3] # the channel depth of shortcut is smaller than that of x\n",
        "        depth_padding = int(depth_diff) # zero padding is added at the end of the channel depth\n",
        "        padded_shortcut = tf.pad(shortcut, [[0, 0], [0, 0], [0, 0], [0, depth_padding]], mode=\"CONSTANT\", constant_values=0)\n",
        "\n",
        "        x = Add()([x, padded_shortcut])\n",
        "        x = ReLU()(x)\n",
        "\n",
        "        return x\n",
        "\n",
        "    else:\n",
        "        # first conv layer\n",
        "        x = Conv2D(filters, kernel_size=(3, 3), padding='same', kernel_initializer='he_normal', kernel_regularizer=l2(reg_strength))(x)\n",
        "        x = BatchNormalization()(x)\n",
        "        x = ReLU()(x)\n",
        "\n",
        "        # second conv layer\n",
        "        x = Conv2D(filters, kernel_size=(3, 3), padding='same', kernel_initializer='he_normal', kernel_regularizer=l2(reg_strength))(x)\n",
        "        x = BatchNormalization()(x)\n",
        "\n",
        "        x = Add()([x, shortcut])\n",
        "        x = ReLU()(x)\n",
        "\n",
        "        return x"
      ]
    },
    {
      "cell_type": "code",
      "execution_count": null,
      "metadata": {
        "id": "EapC2Cqcq31o"
      },
      "outputs": [],
      "source": [
        "def build_model(lr, exp_decay, decay_rate, decay_steps):\n",
        "    inputs = keras.Input(shape=(32, 32, 3))\n",
        "\n",
        "    x = Conv2D(128, (3, 3), padding='same', kernel_initializer='he_normal', kernel_regularizer=l2(0.0001))(inputs)\n",
        "    x = BatchNormalization()(x)\n",
        "    x = ReLU()(x)\n",
        "    x = Dropout(0.1)(x)\n",
        "\n",
        "    # three residual blocks, 6x128 layers\n",
        "    x = residual_block(x, 128, False, reg_strength=0.0001)\n",
        "    x = Dropout(0.1)(x)\n",
        "    x = residual_block(x, 128, False, reg_strength=0.0001)\n",
        "    x = Dropout(0.1)(x)\n",
        "    x = residual_block(x, 128, False, reg_strength=0.0001)\n",
        "    x = Dropout(0.1)(x)\n",
        "\n",
        "    # three residual blocks, 6x256 layers\n",
        "    x = residual_block(x, 256, True, reg_strength=0.0001)\n",
        "    x = Dropout(0.1)(x)\n",
        "    x = residual_block(x, 256, False, reg_strength=0.0001)\n",
        "    x = Dropout(0.1)(x)\n",
        "    x = residual_block(x, 256, False, reg_strength=0.0001)\n",
        "    x = Dropout(0.1)(x)\n",
        "\n",
        "    # three residual blocks, 6x512 layers\n",
        "    x = residual_block(x, 512, True, reg_strength=0.0001)\n",
        "    x = Dropout(0.1)(x)\n",
        "    x = residual_block(x, 512, False, reg_strength=0.0001)\n",
        "    x = Dropout(0.1)(x)\n",
        "    x = residual_block(x, 512, False, reg_strength=0.0001)\n",
        "    x = Dropout(0.1)(x)\n",
        "\n",
        "    x = GlobalAveragePooling2D()(x)\n",
        "\n",
        "    outputs = Dense(10, activation='softmax', kernel_initializer='he_normal')(x)\n",
        "\n",
        "    model = keras.Model(inputs, outputs)\n",
        "\n",
        "    lr_decay = optimizers.schedules.ExponentialDecay(initial_learning_rate=lr,\n",
        "                                                     decay_steps=decay_steps,\n",
        "                                                     decay_rate=decay_rate,\n",
        "                                                     staircase=True)\n",
        "\n",
        "    if exp_decay:\n",
        "        optimizer = optimizers.Adam(lr_decay)\n",
        "    else:\n",
        "        optimizer = optimizers.Adam(lr)\n",
        "\n",
        "    model.compile(optimizer=optimizer, loss='categorical_crossentropy', metrics=['accuracy'])\n",
        "\n",
        "    return model"
      ]
    },
    {
      "cell_type": "code",
      "execution_count": null,
      "metadata": {
        "id": "zXNVV27WverK"
      },
      "outputs": [],
      "source": [
        "checkpoint_callback = ModelCheckpoint(filepath='best_model_weights.h5',\n",
        "                                      monitor='val_loss',\n",
        "                                      save_weights_only=True,\n",
        "                                      save_best_only=True,\n",
        "                                      verbose=0)"
      ]
    },
    {
      "cell_type": "code",
      "execution_count": null,
      "metadata": {
        "colab": {
          "base_uri": "https://localhost:8080/"
        },
        "id": "bDTztZAOXoia",
        "outputId": "d758faee-9667-436b-f234-d1582e2bb6c4"
      },
      "outputs": [
        {
          "name": "stdout",
          "output_type": "stream",
          "text": [
            "Epoch 1/40\n",
            "704/704 - 52s - loss: 2.2646 - accuracy: 0.5260 - val_loss: 2.4712 - val_accuracy: 0.5362 - 52s/epoch - 74ms/step\n",
            "Epoch 2/40\n",
            "704/704 - 35s - loss: 1.3519 - accuracy: 0.7112 - val_loss: 1.4406 - val_accuracy: 0.6584 - 35s/epoch - 50ms/step\n",
            "Epoch 3/40\n",
            "704/704 - 32s - loss: 1.0882 - accuracy: 0.7623 - val_loss: 1.6336 - val_accuracy: 0.6340 - 32s/epoch - 45ms/step\n",
            "Epoch 4/40\n",
            "704/704 - 34s - loss: 0.9926 - accuracy: 0.7845 - val_loss: 1.2501 - val_accuracy: 0.7054 - 34s/epoch - 48ms/step\n",
            "Epoch 5/40\n",
            "704/704 - 33s - loss: 0.9426 - accuracy: 0.8039 - val_loss: 1.6797 - val_accuracy: 0.6096 - 33s/epoch - 47ms/step\n",
            "Epoch 6/40\n",
            "704/704 - 35s - loss: 0.7198 - accuracy: 0.8629 - val_loss: 0.8744 - val_accuracy: 0.8070 - 35s/epoch - 49ms/step\n",
            "Epoch 7/40\n",
            "704/704 - 33s - loss: 0.6574 - accuracy: 0.8726 - val_loss: 0.8377 - val_accuracy: 0.8070 - 33s/epoch - 48ms/step\n",
            "Epoch 8/40\n",
            "704/704 - 34s - loss: 0.6215 - accuracy: 0.8826 - val_loss: 0.6876 - val_accuracy: 0.8612 - 34s/epoch - 49ms/step\n",
            "Epoch 9/40\n",
            "704/704 - 32s - loss: 0.5897 - accuracy: 0.8896 - val_loss: 0.7433 - val_accuracy: 0.8446 - 32s/epoch - 46ms/step\n",
            "Epoch 10/40\n",
            "704/704 - 32s - loss: 0.5662 - accuracy: 0.8973 - val_loss: 0.7490 - val_accuracy: 0.8386 - 32s/epoch - 46ms/step\n",
            "Epoch 11/40\n",
            "704/704 - 34s - loss: 0.4452 - accuracy: 0.9328 - val_loss: 0.5464 - val_accuracy: 0.8956 - 34s/epoch - 48ms/step\n",
            "Epoch 12/40\n",
            "704/704 - 34s - loss: 0.4026 - accuracy: 0.9409 - val_loss: 0.5240 - val_accuracy: 0.9048 - 34s/epoch - 49ms/step\n",
            "Epoch 13/40\n",
            "704/704 - 35s - loss: 0.3768 - accuracy: 0.9460 - val_loss: 0.4913 - val_accuracy: 0.9056 - 35s/epoch - 50ms/step\n",
            "Epoch 14/40\n",
            "704/704 - 34s - loss: 0.3587 - accuracy: 0.9493 - val_loss: 0.4969 - val_accuracy: 0.9128 - 34s/epoch - 48ms/step\n",
            "Epoch 15/40\n",
            "704/704 - 33s - loss: 0.3473 - accuracy: 0.9516 - val_loss: 0.4778 - val_accuracy: 0.9116 - 33s/epoch - 47ms/step\n",
            "Epoch 16/40\n",
            "704/704 - 34s - loss: 0.2894 - accuracy: 0.9697 - val_loss: 0.3949 - val_accuracy: 0.9356 - 34s/epoch - 49ms/step\n",
            "Epoch 17/40\n",
            "704/704 - 34s - loss: 0.2718 - accuracy: 0.9732 - val_loss: 0.3982 - val_accuracy: 0.9340 - 34s/epoch - 48ms/step\n",
            "Epoch 18/40\n",
            "704/704 - 32s - loss: 0.2595 - accuracy: 0.9747 - val_loss: 0.4072 - val_accuracy: 0.9340 - 32s/epoch - 45ms/step\n",
            "Epoch 19/40\n",
            "704/704 - 33s - loss: 0.2502 - accuracy: 0.9774 - val_loss: 0.3990 - val_accuracy: 0.9354 - 33s/epoch - 46ms/step\n",
            "Epoch 20/40\n",
            "704/704 - 32s - loss: 0.2435 - accuracy: 0.9776 - val_loss: 0.3993 - val_accuracy: 0.9346 - 32s/epoch - 45ms/step\n",
            "Epoch 21/40\n",
            "704/704 - 34s - loss: 0.2197 - accuracy: 0.9847 - val_loss: 0.3757 - val_accuracy: 0.9440 - 34s/epoch - 48ms/step\n",
            "Epoch 22/40\n",
            "704/704 - 33s - loss: 0.2127 - accuracy: 0.9859 - val_loss: 0.3896 - val_accuracy: 0.9382 - 33s/epoch - 47ms/step\n",
            "Epoch 23/40\n",
            "704/704 - 31s - loss: 0.2084 - accuracy: 0.9872 - val_loss: 0.3759 - val_accuracy: 0.9432 - 31s/epoch - 45ms/step\n",
            "Epoch 24/40\n",
            "704/704 - 34s - loss: 0.2038 - accuracy: 0.9878 - val_loss: 0.3698 - val_accuracy: 0.9426 - 34s/epoch - 48ms/step\n",
            "Epoch 25/40\n",
            "704/704 - 32s - loss: 0.1999 - accuracy: 0.9881 - val_loss: 0.3810 - val_accuracy: 0.9412 - 32s/epoch - 45ms/step\n",
            "Epoch 26/40\n",
            "704/704 - 32s - loss: 0.1912 - accuracy: 0.9908 - val_loss: 0.3769 - val_accuracy: 0.9430 - 32s/epoch - 46ms/step\n",
            "Epoch 27/40\n",
            "704/704 - 35s - loss: 0.1889 - accuracy: 0.9913 - val_loss: 0.3652 - val_accuracy: 0.9444 - 35s/epoch - 49ms/step\n",
            "Epoch 28/40\n",
            "704/704 - 35s - loss: 0.1861 - accuracy: 0.9918 - val_loss: 0.3644 - val_accuracy: 0.9472 - 35s/epoch - 50ms/step\n",
            "Epoch 29/40\n",
            "704/704 - 34s - loss: 0.1847 - accuracy: 0.9919 - val_loss: 0.3609 - val_accuracy: 0.9450 - 34s/epoch - 48ms/step\n",
            "Epoch 30/40\n",
            "704/704 - 32s - loss: 0.1819 - accuracy: 0.9924 - val_loss: 0.3700 - val_accuracy: 0.9468 - 32s/epoch - 45ms/step\n",
            "Epoch 31/40\n",
            "704/704 - 33s - loss: 0.1795 - accuracy: 0.9933 - val_loss: 0.3663 - val_accuracy: 0.9472 - 33s/epoch - 47ms/step\n",
            "Epoch 32/40\n",
            "704/704 - 32s - loss: 0.1785 - accuracy: 0.9932 - val_loss: 0.3647 - val_accuracy: 0.9446 - 32s/epoch - 46ms/step\n",
            "Epoch 33/40\n",
            "704/704 - 33s - loss: 0.1758 - accuracy: 0.9937 - val_loss: 0.3652 - val_accuracy: 0.9458 - 33s/epoch - 46ms/step\n",
            "Epoch 34/40\n",
            "704/704 - 32s - loss: 0.1769 - accuracy: 0.9936 - val_loss: 0.3658 - val_accuracy: 0.9466 - 32s/epoch - 46ms/step\n",
            "Epoch 35/40\n",
            "704/704 - 32s - loss: 0.1750 - accuracy: 0.9937 - val_loss: 0.3646 - val_accuracy: 0.9460 - 32s/epoch - 46ms/step\n",
            "Epoch 36/40\n",
            "704/704 - 32s - loss: 0.1738 - accuracy: 0.9943 - val_loss: 0.3661 - val_accuracy: 0.9466 - 32s/epoch - 46ms/step\n",
            "Epoch 37/40\n",
            "704/704 - 33s - loss: 0.1736 - accuracy: 0.9942 - val_loss: 0.3662 - val_accuracy: 0.9444 - 33s/epoch - 46ms/step\n",
            "Epoch 38/40\n",
            "704/704 - 32s - loss: 0.1722 - accuracy: 0.9948 - val_loss: 0.3654 - val_accuracy: 0.9458 - 32s/epoch - 46ms/step\n",
            "Epoch 39/40\n",
            "704/704 - 32s - loss: 0.1732 - accuracy: 0.9943 - val_loss: 0.3687 - val_accuracy: 0.9454 - 32s/epoch - 45ms/step\n",
            "Epoch 40/40\n",
            "704/704 - 33s - loss: 0.1723 - accuracy: 0.9945 - val_loss: 0.3676 - val_accuracy: 0.9464 - 33s/epoch - 47ms/step\n"
          ]
        }
      ],
      "source": [
        "# training the model\n",
        "with tpu_strategy.scope():\n",
        "    model = build_model(lr=0.001, exp_decay=True, decay_rate=0.4, decay_steps=3520)\n",
        "\n",
        "history= model.fit(train_dataset, epochs=40, validation_data=val_dataset, verbose=2, callbacks=[checkpoint_callback])"
      ]
    },
    {
      "cell_type": "code",
      "execution_count": null,
      "metadata": {
        "colab": {
          "base_uri": "https://localhost:8080/",
          "height": 410
        },
        "id": "GNkitjzXXbNd",
        "outputId": "68afa1c0-3ae3-4f57-99be-34ac8787842b"
      },
      "outputs": [
        {
          "data": {
            "image/png": "[encoded data removed]",
            "text/plain": [
              "<Figure size 1200x400 with 2 Axes>"
            ]
          },
          "metadata": {},
          "output_type": "display_data"
        }
      ],
      "source": [
        "# plotting the losses and accuracies\n",
        "training_loss = history.history['loss']\n",
        "validation_loss = history.history['val_loss']\n",
        "training_acc = history.history['accuracy']\n",
        "validation_acc = history.history['val_accuracy']\n",
        "\n",
        "epochs = list(range(1, len(training_loss) + 1))\n",
        "\n",
        "fig, axs = plt.subplots(1, 2, figsize=(12, 4))\n",
        "\n",
        "axs[0].plot(epochs, training_loss, label='Training Loss')\n",
        "axs[0].plot(epochs, validation_loss, label='Validation Loss')\n",
        "axs[0].set_title('Training and Validation Loss')\n",
        "axs[0].set_xlabel('Epochs')\n",
        "axs[0].set_ylabel('Loss')\n",
        "axs[0].legend()\n",
        "\n",
        "axs[1].plot(epochs, training_acc, label='Training Accuracy')\n",
        "axs[1].plot(epochs, validation_acc, label='Validation Accuracy')\n",
        "axs[1].set_title('Training and Validation Accuracy')\n",
        "axs[1].set_xlabel('Epochs')\n",
        "axs[1].set_ylabel('Accuracy')\n",
        "axs[1].legend()\n",
        "\n",
        "plt.subplots_adjust(wspace=0.5)\n",
        "\n",
        "plt.show()"
      ]
    },
    {
      "cell_type": "code",
      "execution_count": null,
      "metadata": {
        "colab": {
          "base_uri": "https://localhost:8080/"
        },
        "id": "IwfeznpiZ3wr",
        "outputId": "a819a6c4-394f-4e9f-d7e4-40a6fcb1d75b"
      },
      "outputs": [
        {
          "name": "stdout",
          "output_type": "stream",
          "text": [
            "313/313 - 6s - loss: 0.3796 - accuracy: 0.9447 - 6s/epoch - 19ms/step\n"
          ]
        },
        {
          "data": {
            "text/plain": [
              "[0.3795933425426483, 0.9447000026702881]"
            ]
          },
          "execution_count": 13,
          "metadata": {},
          "output_type": "execute_result"
        }
      ],
      "source": [
        "# evaluating the model on test data\n",
        "model.load_weights('best_model_weights.h5')\n",
        "model.evaluate(x_test, y_test, verbose=2)"
      ]
    }
  ],
  "metadata": {
    "accelerator": "TPU",
    "colab": {
      "provenance": []
    },
    "kernelspec": {
      "display_name": "Python 3",
      "name": "python3"
    },
    "language_info": {
      "name": "python"
    }
  },
  "nbformat": 4,
  "nbformat_minor": 0
}
