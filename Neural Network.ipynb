{
  "cells": [
    {
      "cell_type": "code",
      "execution_count": 1,
      "metadata": {
        "id": "fkPeHt3hDqwv"
      },
      "outputs": [],
      "source": [
        "import tensorflow as tf\n",
        "import numpy as np\n",
        "import matplotlib.pyplot as plt\n",
        "import keras\n",
        "\n",
        "from keras import optimizers\n",
        "from keras.layers import Conv2D, MaxPooling2D, Dropout, Dense, Flatten, ReLU, BatchNormalization, GlobalAveragePooling2D\n",
        "from keras.models import Sequential\n",
        "from keras.callbacks import ModelCheckpoint\n",
        "from keras.regularizers import l2\n",
        "\n",
        "from sklearn.model_selection import train_test_split"
      ]
    },
    {
      "cell_type": "code",
      "execution_count": 2,
      "metadata": {
        "colab": {
          "base_uri": "https://localhost:8080/"
        },
        "id": "PQahzUx4IOa4",
        "outputId": "b0d91387-2205-4f20-95fd-cd5788475aba"
      },
      "outputs": [
        {
          "name": "stdout",
          "output_type": "stream",
          "text": [
            "Running on TPU  ['10.63.19.202:8470']\n"
          ]
        }
      ],
      "source": [
        "tpu = tf.distribute.cluster_resolver.TPUClusterResolver()\n",
        "print('Running on TPU ', tpu.cluster_spec().as_dict()['worker'])\n",
        "\n",
        "tf.config.experimental_connect_to_cluster(tpu)\n",
        "tf.tpu.experimental.initialize_tpu_system(tpu)\n",
        "tpu_strategy = tf.distribute.TPUStrategy(tpu)"
      ]
    },
    {
      "cell_type": "code",
      "execution_count": 3,
      "metadata": {
        "id": "7gKnOaGYHBFG"
      },
      "outputs": [],
      "source": [
        "# loading and splitting the dataset into training and testing data\n",
        "(x_train, y_train), (x_test, y_test) = keras.datasets.cifar10.load_data()\n",
        "\n",
        "val_size = 0.1\n",
        "\n",
        "x_train, x_val, y_train, y_val = train_test_split(\n",
        "    x_train, y_train, test_size=val_size, random_state=42\n",
        ")\n",
        "\n",
        "# one-hot encoding the integer labels\n",
        "y_train = keras.utils.to_categorical(y_train)\n",
        "y_val = keras.utils.to_categorical(y_val)\n",
        "y_test = keras.utils.to_categorical(y_test)\n",
        "\n",
        "# converting np arrays of uint8 dtype into tensors\n",
        "x_train = tf.convert_to_tensor(x_train, dtype=tf.float32)\n",
        "y_train = tf.convert_to_tensor(y_train, dtype=tf.int32)\n",
        "x_val = tf.convert_to_tensor(x_val, dtype=tf.float32)\n",
        "y_val = tf.convert_to_tensor(y_val, dtype=tf.int32)\n",
        "\n",
        "train_dataset = tf.data.Dataset.from_tensor_slices((x_train, y_train))\n",
        "val_dataset = tf.data.Dataset.from_tensor_slices((x_val, y_val))"
      ]
    },
    {
      "cell_type": "code",
      "execution_count": 4,
      "metadata": {
        "id": "5gh6ddxFLtJK"
      },
      "outputs": [],
      "source": [
        "# performing image augmentations\n",
        "def augment_data(image, label):\n",
        "    image = tf.image.random_flip_left_right(image)\n",
        "\n",
        "    image = tf.image.random_contrast(image, lower=0.5, upper=1.5)\n",
        "    image = tf.image.random_brightness(image, max_delta=0.2)\n",
        "\n",
        "    image = tf.image.random_crop(image, size=[27, 27, 3])\n",
        "    image = tf.image.resize(image, size=[32, 32], method=tf.image.ResizeMethod.LANCZOS3)\n",
        "\n",
        "    return image, label\n",
        "\n",
        "augmented_dataset = train_dataset.map(augment_data)\n",
        "train_dataset = train_dataset.concatenate(augmented_dataset)"
      ]
    },
    {
      "cell_type": "code",
      "execution_count": 5,
      "metadata": {
        "id": "cYmolCWdPK2E"
      },
      "outputs": [],
      "source": [
        "# normalizing the images in our datasets\n",
        "def normalize_images(image, label):\n",
        "    image = image/255.0\n",
        "\n",
        "    return image, label\n",
        "\n",
        "train_dataset = train_dataset.map(normalize_images)\n",
        "val_dataset = val_dataset.map(normalize_images)\n",
        "x_test = x_test/255.0\n",
        "\n",
        "# shuffling and batching our datasets\n",
        "batch_size=128\n",
        "\n",
        "train_dataset = train_dataset.shuffle(buffer_size=90000).batch(batch_size)\n",
        "val_dataset = val_dataset.batch(batch_size)"
      ]
    },
    {
      "cell_type": "code",
      "execution_count": 6,
      "metadata": {
        "id": "yzehlHku4ibH"
      },
      "outputs": [],
      "source": [
        "# function takes as input lr and decay_rate which are float values and exp_decay which is a boolean value\n",
        "def build_model(lr, decay_rate, exp_decay):\n",
        "    model = Sequential()\n",
        "    model.add(Conv2D(128, (3, 3), padding='same', input_shape=(32, 32, 3), kernel_initializer='he_normal', kernel_regularizer=l2(0.001)))\n",
        "    model.add(BatchNormalization())\n",
        "    model.add(ReLU())\n",
        "    model.add(Conv2D(128, (3, 3), padding='same', kernel_initializer='he_normal', kernel_regularizer=l2(0.001)))\n",
        "    model.add(BatchNormalization())\n",
        "    model.add(ReLU())\n",
        "    model.add(Conv2D(128, (3, 3), padding='same', kernel_initializer='he_normal', kernel_regularizer=l2(0.001)))\n",
        "    model.add(BatchNormalization())\n",
        "    model.add(ReLU())\n",
        "\n",
        "    model.add(MaxPooling2D((2, 2)))\n",
        "\n",
        "    model.add(Conv2D(256, (3, 3), padding='same', kernel_initializer='he_normal', kernel_regularizer=l2(0.001)))\n",
        "    model.add(BatchNormalization())\n",
        "    model.add(ReLU())\n",
        "    model.add(Conv2D(256, (3, 3), padding='same', kernel_initializer='he_normal', kernel_regularizer=l2(0.001)))\n",
        "    model.add(BatchNormalization())\n",
        "    model.add(ReLU())\n",
        "    model.add(Conv2D(256, (3, 3), padding='same', kernel_initializer='he_normal', kernel_regularizer=l2(0.001)))\n",
        "    model.add(BatchNormalization())\n",
        "    model.add(ReLU())\n",
        "\n",
        "    model.add(MaxPooling2D((2, 2)))\n",
        "\n",
        "    model.add(Conv2D(400, (3, 3), padding='same', kernel_initializer='he_normal', kernel_regularizer=l2(0.001)))\n",
        "    model.add(BatchNormalization())\n",
        "    model.add(ReLU())\n",
        "    model.add(Conv2D(400, (3, 3), padding='same', kernel_initializer='he_normal', kernel_regularizer=l2(0.001)))\n",
        "    model.add(BatchNormalization())\n",
        "    model.add(ReLU())\n",
        "    model.add(Conv2D(400, (3, 3), padding='same', kernel_initializer='he_normal', kernel_regularizer=l2(0.001)))\n",
        "    model.add(BatchNormalization())\n",
        "    model.add(ReLU())\n",
        "\n",
        "    model.add(GlobalAveragePooling2D())\n",
        "\n",
        "    model.add(Dense(128, kernel_initializer='he_normal', kernel_regularizer=l2(0.01)))\n",
        "    model.add(BatchNormalization())\n",
        "    model.add(ReLU())\n",
        "    model.add(Dropout(0.4))\n",
        "\n",
        "    model.add(Dense(10, activation='softmax', kernel_initializer='he_normal'))\n",
        "\n",
        "    lr_schedule = optimizers.schedules.ExponentialDecay(initial_learning_rate=lr,\n",
        "                                                        decay_steps=3520,\n",
        "                                                        decay_rate=decay_rate,\n",
        "                                                        staircase=True)\n",
        "\n",
        "    if exp_decay:\n",
        "        optimizer = optimizers.Adam(lr_schedule)\n",
        "    else:\n",
        "        optimizer = optimizers.Adam(lr)\n",
        "\n",
        "    model.compile(optimizer=optimizer, loss='categorical_crossentropy', metrics=['accuracy'])\n",
        "\n",
        "    return model"
      ]
    },
    {
      "cell_type": "code",
      "execution_count": 7,
      "metadata": {
        "id": "jvaPl3mGMGRz"
      },
      "outputs": [],
      "source": [
        "# model checkpointing to save the weights corresponding to the lowest val_loss\n",
        "checkpoint_callback = ModelCheckpoint(filepath='best_model_weights.h5',\n",
        "                                      monitor='val_loss',\n",
        "                                      save_weights_only=True,\n",
        "                                      save_best_only=True,\n",
        "                                      verbose=0)"
      ]
    },
    {
      "cell_type": "code",
      "execution_count": 8,
      "metadata": {
        "colab": {
          "base_uri": "https://localhost:8080/"
        },
        "id": "aBIPiTrz4hmu",
        "outputId": "034e840c-9192-4575-f60b-16af5c9b75c0"
      },
      "outputs": [
        {
          "name": "stdout",
          "output_type": "stream",
          "text": [
            "Epoch 1/40\n",
            "704/704 - 33s - loss: 3.9024 - accuracy: 0.4996 - val_loss: 2.0807 - val_accuracy: 0.5248 - 33s/epoch - 47ms/step\n",
            "Epoch 2/40\n",
            "704/704 - 21s - loss: 1.6026 - accuracy: 0.6564 - val_loss: 2.4300 - val_accuracy: 0.4222 - 21s/epoch - 30ms/step\n",
            "Epoch 3/40\n",
            "704/704 - 22s - loss: 1.4195 - accuracy: 0.6965 - val_loss: 2.1392 - val_accuracy: 0.4716 - 22s/epoch - 31ms/step\n",
            "Epoch 4/40\n",
            "704/704 - 22s - loss: 1.3311 - accuracy: 0.7225 - val_loss: 1.7779 - val_accuracy: 0.5492 - 22s/epoch - 32ms/step\n",
            "Epoch 5/40\n",
            "704/704 - 22s - loss: 1.2650 - accuracy: 0.7429 - val_loss: 1.7190 - val_accuracy: 0.5884 - 22s/epoch - 32ms/step\n",
            "Epoch 6/40\n",
            "704/704 - 23s - loss: 0.9133 - accuracy: 0.8272 - val_loss: 0.8607 - val_accuracy: 0.8180 - 23s/epoch - 32ms/step\n",
            "Epoch 7/40\n",
            "704/704 - 23s - loss: 0.7936 - accuracy: 0.8440 - val_loss: 0.8601 - val_accuracy: 0.8126 - 23s/epoch - 32ms/step\n",
            "Epoch 8/40\n",
            "704/704 - 22s - loss: 0.7382 - accuracy: 0.8589 - val_loss: 0.8677 - val_accuracy: 0.8166 - 22s/epoch - 31ms/step\n",
            "Epoch 9/40\n",
            "704/704 - 22s - loss: 0.7007 - accuracy: 0.8686 - val_loss: 0.8618 - val_accuracy: 0.8134 - 22s/epoch - 31ms/step\n",
            "Epoch 10/40\n",
            "704/704 - 22s - loss: 0.6702 - accuracy: 0.8777 - val_loss: 0.7347 - val_accuracy: 0.8570 - 22s/epoch - 31ms/step\n",
            "Epoch 11/40\n",
            "704/704 - 24s - loss: 0.5208 - accuracy: 0.9230 - val_loss: 0.5666 - val_accuracy: 0.9024 - 24s/epoch - 34ms/step\n",
            "Epoch 12/40\n",
            "704/704 - 22s - loss: 0.4602 - accuracy: 0.9358 - val_loss: 0.5245 - val_accuracy: 0.9090 - 22s/epoch - 31ms/step\n",
            "Epoch 13/40\n",
            "704/704 - 22s - loss: 0.4311 - accuracy: 0.9417 - val_loss: 0.5650 - val_accuracy: 0.8982 - 22s/epoch - 31ms/step\n",
            "Epoch 14/40\n",
            "704/704 - 22s - loss: 0.4048 - accuracy: 0.9475 - val_loss: 0.4971 - val_accuracy: 0.9154 - 22s/epoch - 32ms/step\n",
            "Epoch 15/40\n",
            "704/704 - 23s - loss: 0.3891 - accuracy: 0.9502 - val_loss: 0.5668 - val_accuracy: 0.8902 - 23s/epoch - 32ms/step\n",
            "Epoch 16/40\n",
            "704/704 - 23s - loss: 0.3386 - accuracy: 0.9652 - val_loss: 0.4555 - val_accuracy: 0.9196 - 23s/epoch - 32ms/step\n",
            "Epoch 17/40\n",
            "704/704 - 22s - loss: 0.3188 - accuracy: 0.9700 - val_loss: 0.4507 - val_accuracy: 0.9236 - 22s/epoch - 31ms/step\n",
            "Epoch 18/40\n",
            "704/704 - 22s - loss: 0.3072 - accuracy: 0.9734 - val_loss: 0.4572 - val_accuracy: 0.9226 - 22s/epoch - 32ms/step\n",
            "Epoch 19/40\n",
            "704/704 - 22s - loss: 0.2986 - accuracy: 0.9743 - val_loss: 0.4512 - val_accuracy: 0.9278 - 22s/epoch - 31ms/step\n",
            "Epoch 20/40\n",
            "704/704 - 22s - loss: 0.2899 - accuracy: 0.9764 - val_loss: 0.4545 - val_accuracy: 0.9218 - 22s/epoch - 32ms/step\n",
            "Epoch 21/40\n",
            "704/704 - 23s - loss: 0.2746 - accuracy: 0.9810 - val_loss: 0.4316 - val_accuracy: 0.9300 - 23s/epoch - 32ms/step\n",
            "Epoch 22/40\n",
            "704/704 - 22s - loss: 0.2690 - accuracy: 0.9822 - val_loss: 0.4299 - val_accuracy: 0.9308 - 22s/epoch - 31ms/step\n",
            "Epoch 23/40\n",
            "704/704 - 22s - loss: 0.2651 - accuracy: 0.9831 - val_loss: 0.4281 - val_accuracy: 0.9304 - 22s/epoch - 32ms/step\n",
            "Epoch 24/40\n",
            "704/704 - 22s - loss: 0.2624 - accuracy: 0.9833 - val_loss: 0.4331 - val_accuracy: 0.9294 - 22s/epoch - 31ms/step\n",
            "Epoch 25/40\n",
            "704/704 - 23s - loss: 0.2595 - accuracy: 0.9839 - val_loss: 0.4240 - val_accuracy: 0.9326 - 23s/epoch - 32ms/step\n",
            "Epoch 26/40\n",
            "704/704 - 21s - loss: 0.2543 - accuracy: 0.9857 - val_loss: 0.4242 - val_accuracy: 0.9330 - 21s/epoch - 30ms/step\n",
            "Epoch 27/40\n",
            "704/704 - 22s - loss: 0.2526 - accuracy: 0.9857 - val_loss: 0.4249 - val_accuracy: 0.9344 - 22s/epoch - 31ms/step\n",
            "Epoch 28/40\n",
            "704/704 - 22s - loss: 0.2507 - accuracy: 0.9860 - val_loss: 0.4253 - val_accuracy: 0.9344 - 22s/epoch - 31ms/step\n",
            "Epoch 29/40\n",
            "704/704 - 22s - loss: 0.2497 - accuracy: 0.9864 - val_loss: 0.4263 - val_accuracy: 0.9338 - 22s/epoch - 31ms/step\n",
            "Epoch 30/40\n",
            "704/704 - 22s - loss: 0.2494 - accuracy: 0.9867 - val_loss: 0.4255 - val_accuracy: 0.9336 - 22s/epoch - 32ms/step\n",
            "Epoch 31/40\n",
            "704/704 - 21s - loss: 0.2466 - accuracy: 0.9870 - val_loss: 0.4247 - val_accuracy: 0.9318 - 21s/epoch - 31ms/step\n",
            "Epoch 32/40\n",
            "704/704 - 22s - loss: 0.2483 - accuracy: 0.9865 - val_loss: 0.4249 - val_accuracy: 0.9332 - 22s/epoch - 31ms/step\n",
            "Epoch 33/40\n",
            "704/704 - 22s - loss: 0.2470 - accuracy: 0.9873 - val_loss: 0.4240 - val_accuracy: 0.9322 - 22s/epoch - 31ms/step\n",
            "Epoch 34/40\n",
            "704/704 - 22s - loss: 0.2475 - accuracy: 0.9874 - val_loss: 0.4248 - val_accuracy: 0.9336 - 22s/epoch - 31ms/step\n",
            "Epoch 35/40\n",
            "704/704 - 22s - loss: 0.2462 - accuracy: 0.9873 - val_loss: 0.4264 - val_accuracy: 0.9326 - 22s/epoch - 32ms/step\n",
            "Epoch 36/40\n",
            "704/704 - 22s - loss: 0.2443 - accuracy: 0.9878 - val_loss: 0.4255 - val_accuracy: 0.9324 - 22s/epoch - 31ms/step\n",
            "Epoch 37/40\n",
            "704/704 - 22s - loss: 0.2457 - accuracy: 0.9876 - val_loss: 0.4258 - val_accuracy: 0.9326 - 22s/epoch - 31ms/step\n",
            "Epoch 38/40\n",
            "704/704 - 22s - loss: 0.2447 - accuracy: 0.9876 - val_loss: 0.4253 - val_accuracy: 0.9334 - 22s/epoch - 32ms/step\n",
            "Epoch 39/40\n",
            "704/704 - 22s - loss: 0.2449 - accuracy: 0.9875 - val_loss: 0.4251 - val_accuracy: 0.9326 - 22s/epoch - 31ms/step\n",
            "Epoch 40/40\n",
            "704/704 - 22s - loss: 0.2432 - accuracy: 0.9885 - val_loss: 0.4246 - val_accuracy: 0.9330 - 22s/epoch - 31ms/step\n"
          ]
        }
      ],
      "source": [
        "# training the model\n",
        "with tpu_strategy.scope():\n",
        "    model = build_model(lr=0.0008, decay_rate=0.3, exp_decay=True)\n",
        "\n",
        "history= model.fit(train_dataset, epochs=40, validation_data=val_dataset, verbose=2, callbacks=[checkpoint_callback])"
      ]
    },
    {
      "cell_type": "code",
      "execution_count": 11,
      "metadata": {
        "colab": {
          "base_uri": "https://localhost:8080/",
          "height": 410
        },
        "id": "qlXuWgfc71n7",
        "outputId": "f54ea946-cac1-4c27-ea52-5861d3cbec35"
      },
      "outputs": [
        {
          "data": {
            "image/png": "[encoded data removed]",
            "text/plain": [
              "<Figure size 1200x400 with 2 Axes>"
            ]
          },
          "metadata": {},
          "output_type": "display_data"
        }
      ],
      "source": [
        "# plotting the loss and accuracy values for training and validation\n",
        "training_loss = history.history['loss']\n",
        "validation_loss = history.history['val_loss']\n",
        "training_acc = history.history['accuracy']\n",
        "validation_acc = history.history['val_accuracy']\n",
        "\n",
        "epochs = list(range(1, len(training_loss) + 1))\n",
        "\n",
        "fig, axs = plt.subplots(1, 2, figsize=(12, 4))\n",
        "\n",
        "axs[0].plot(epochs, training_loss, label='Training Loss')\n",
        "axs[0].plot(epochs, validation_loss, label='Validation Loss')\n",
        "axs[0].set_title('Training and Validation Loss')\n",
        "axs[0].set_xlabel('Epochs')\n",
        "axs[0].set_ylabel('Loss')\n",
        "axs[0].legend()\n",
        "\n",
        "axs[1].plot(epochs, training_acc, label='Training Accuracy')\n",
        "axs[1].plot(epochs, validation_acc, label='Validation Accuracy')\n",
        "axs[1].set_title('Training and Validation Accuracy')\n",
        "axs[1].set_xlabel('Epochs')\n",
        "axs[1].set_ylabel('Accuracy')\n",
        "axs[1].legend()\n",
        "\n",
        "plt.subplots_adjust(wspace=0.5)\n",
        "plt.show()"
      ]
    },
    {
      "cell_type": "code",
      "execution_count": 9,
      "metadata": {
        "colab": {
          "base_uri": "https://localhost:8080/"
        },
        "id": "RcFB0-AUjyVs",
        "outputId": "94e4f48c-e521-4933-c210-1715948c2f23"
      },
      "outputs": [
        {
          "name": "stdout",
          "output_type": "stream",
          "text": [
            "313/313 [==============================] - 17s 31ms/step - loss: 0.4406 - accuracy: 0.9281\n"
          ]
        },
        {
          "data": {
            "text/plain": [
              "[0.44056546688079834, 0.9280999898910522]"
            ]
          },
          "execution_count": 9,
          "metadata": {},
          "output_type": "execute_result"
        }
      ],
      "source": [
        "# evaluating the model on test data\n",
        "model.load_weights('best_model_weights.h5')\n",
        "model.evaluate(x_test, y_test, verbose=1)"
      ]
    }
  ],
  "metadata": {
    "accelerator": "TPU",
    "colab": {
      "provenance": []
    },
    "kernelspec": {
      "display_name": "Python 3",
      "name": "python3"
    },
    "language_info": {
      "name": "python"
    }
  },
  "nbformat": 4,
  "nbformat_minor": 0
}
